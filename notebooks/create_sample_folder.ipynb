{
 "cells": [
  {
   "cell_type": "code",
   "execution_count": 1,
   "metadata": {},
   "outputs": [],
   "source": [
    "import os\n",
    "import re\n",
    "import datetime\n",
    "import random"
   ]
  },
  {
   "cell_type": "code",
   "execution_count": 2,
   "metadata": {},
   "outputs": [],
   "source": [
    "datafolder='./midi_audio'"
   ]
  },
  {
   "cell_type": "code",
   "execution_count": 3,
   "metadata": {},
   "outputs": [
    {
     "name": "stdout",
     "output_type": "stream",
     "text": [
      "creating directory:  ./midi_audio_sample20180819013100/testing ./midi_audio_sample20180819013100/teacher\n"
     ]
    }
   ],
   "source": [
    "outputfolder='./midi_audio_sample' + datetime.datetime.utcnow().strftime('%Y%m%d%H%M%S')\n",
    "outputfolder_testing=outputfolder + '/testing'\n",
    "outputfolder_teacher=outputfolder + '/teacher'\n",
    "\n",
    "print('creating directory: ', outputfolder_testing, outputfolder_teacher)\n",
    "\n",
    "os.makedirs(outputfolder)\n",
    "os.makedirs(outputfolder_testing)\n",
    "os.makedirs(outputfolder_teacher)"
   ]
  },
  {
   "cell_type": "code",
   "execution_count": 4,
   "metadata": {},
   "outputs": [],
   "source": [
    "files = os.listdir(datafolder)"
   ]
  },
  {
   "cell_type": "code",
   "execution_count": 5,
   "metadata": {},
   "outputs": [],
   "source": [
    "csv_source={}"
   ]
  },
  {
   "cell_type": "code",
   "execution_count": 6,
   "metadata": {},
   "outputs": [],
   "source": [
    "for file in files:\n",
    "    m = re.match('^note-program(?P<program>\\d+)-degree(?P<degree>\\d+)-volume(?P<volume>\\d+).*.ogg$', file)\n",
    "    v_program = m.group('program')\n",
    "    v_degree = m.group('degree')\n",
    "    v_volume = m.group('volume')\n",
    "    \n",
    "    if int(v_program) >= 10:\n",
    "        continue # limit programs\n",
    "    \n",
    "    is_testing_data = random.random() < 0.2\n",
    "    \n",
    "    if is_testing_data:\n",
    "        f_outputfolder = outputfolder_testing\n",
    "    else:\n",
    "        f_outputfolder = outputfolder_teacher\n",
    "    f_outputfile = f_outputfolder + '/' + file\n",
    "    \n",
    "    #print('creating link: ', file, ' ... ', f_outputfile)\n",
    "    file_fullpath = '../../../notebooks/midi_audio/' + file #os.path.abspath('.') + '/' + datafolder + '/' + file\n",
    "    os.symlink(file_fullpath, f_outputfile)\n",
    "    \n",
    "    if is_testing_data not in csv_source:\n",
    "        csv_source[is_testing_data] = {}\n",
    "    if v_program not in csv_source[is_testing_data]:\n",
    "        csv_source[is_testing_data][v_program] = {}\n",
    "    csv_source[is_testing_data][v_program][file] = 1.0\n",
    "    "
   ]
  },
  {
   "cell_type": "code",
   "execution_count": 7,
   "metadata": {},
   "outputs": [
    {
     "name": "stdout",
     "output_type": "stream",
     "text": [
      "10\n",
      "10\n"
     ]
    }
   ],
   "source": [
    "#csv_source\n",
    "print(len(csv_source[True]))\n",
    "print(len(csv_source[False]))"
   ]
  },
  {
   "cell_type": "code",
   "execution_count": 8,
   "metadata": {},
   "outputs": [],
   "source": [
    "csv_fr = {} #file and rows"
   ]
  },
  {
   "cell_type": "code",
   "execution_count": 9,
   "metadata": {},
   "outputs": [],
   "source": [
    "for is_testing_data in csv_source.keys():\n",
    "    dict = csv_source[is_testing_data]\n",
    "    programs = list(dict.keys())\n",
    "    files = [item for sublist in [list(dict[p]) for p in programs] for item in sublist]\n",
    "    combinations = [(program, file) for program in programs for file in files]\n",
    "    csv_fr[is_testing_data] = {}\n",
    "    for combination in combinations:\n",
    "        program = combination[0]\n",
    "        file = combination[1]\n",
    "        if program not in csv_fr[is_testing_data]:\n",
    "            csv_fr[is_testing_data][program] = []\n",
    "        if program not in dict or file not in dict[program]:\n",
    "            csv_fr[is_testing_data][program].append([file, 0.0])\n",
    "        else:\n",
    "            csv_fr[is_testing_data][program].append([file, dict[program][file]])"
   ]
  },
  {
   "cell_type": "code",
   "execution_count": 10,
   "metadata": {},
   "outputs": [],
   "source": [
    "#csv_fr"
   ]
  },
  {
   "cell_type": "code",
   "execution_count": 11,
   "metadata": {},
   "outputs": [],
   "source": [
    "for is_testing_data in csv_fr:\n",
    "    if is_testing_data:\n",
    "        folder = outputfolder_testing\n",
    "    else:\n",
    "        folder = outputfolder_teacher\n",
    "    for program in csv_fr[is_testing_data]:\n",
    "        csvfile = folder + '/' + 'program{0}.csv'.format(program)\n",
    "        with open(csvfile, 'w') as f:\n",
    "            for row in csv_fr[is_testing_data][program]:\n",
    "                audio_file = row[0]\n",
    "                value = row[1]\n",
    "                f.write('{0},{1}\\r\\n'.format(audio_file, value))"
   ]
  },
  {
   "cell_type": "code",
   "execution_count": null,
   "metadata": {},
   "outputs": [],
   "source": []
  }
 ],
 "metadata": {
  "kernelspec": {
   "display_name": "Python 3",
   "language": "python",
   "name": "python3"
  },
  "language_info": {
   "codemirror_mode": {
    "name": "ipython",
    "version": 3
   },
   "file_extension": ".py",
   "mimetype": "text/x-python",
   "name": "python",
   "nbconvert_exporter": "python",
   "pygments_lexer": "ipython3",
   "version": "3.5.2"
  }
 },
 "nbformat": 4,
 "nbformat_minor": 2
}
