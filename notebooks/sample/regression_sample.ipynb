{
 "cells": [
  {
   "cell_type": "code",
   "execution_count": 1,
   "metadata": {},
   "outputs": [
    {
     "name": "stderr",
     "output_type": "stream",
     "text": [
      "/usr/lib/python3.5/importlib/_bootstrap.py:222: RuntimeWarning: numpy.dtype size changed, may indicate binary incompatibility. Expected 96, got 88\n",
      "  return f(*args, **kwds)\n",
      "/usr/lib/python3.5/importlib/_bootstrap.py:222: RuntimeWarning: numpy.dtype size changed, may indicate binary incompatibility. Expected 96, got 88\n",
      "  return f(*args, **kwds)\n",
      "/usr/lib/python3.5/importlib/_bootstrap.py:222: RuntimeWarning: numpy.dtype size changed, may indicate binary incompatibility. Expected 96, got 88\n",
      "  return f(*args, **kwds)\n",
      "/usr/lib/python3.5/importlib/_bootstrap.py:222: RuntimeWarning: numpy.dtype size changed, may indicate binary incompatibility. Expected 96, got 88\n",
      "  return f(*args, **kwds)\n",
      "/home/hiroshi/study_midi_audio_classification/env/lib/python3.5/site-packages/sklearn/ensemble/weight_boosting.py:29: DeprecationWarning: numpy.core.umath_tests is an internal NumPy module and should not be imported. It will be removed in a future NumPy release.\n",
      "  from numpy.core.umath_tests import inner1d\n"
     ]
    }
   ],
   "source": [
    "from pyAudioAnalysis import audioTrainTest as aT"
   ]
  },
  {
   "cell_type": "code",
   "execution_count": 2,
   "metadata": {},
   "outputs": [],
   "source": [
    "datafolder='../pyAudioAnalysis/pyAudioAnalysis/data/speechEmotion/'\n",
    "outputsuffix='./svmSpeechEmotion'"
   ]
  },
  {
   "cell_type": "code",
   "execution_count": 3,
   "metadata": {
    "scrolled": false
   },
   "outputs": [
    {
     "name": "stdout",
     "output_type": "stream",
     "text": [
      "Analyzing file 1 of 47: ../pyAudioAnalysis/pyAudioAnalysis/data/speechEmotion/00.wav\n",
      "Analyzing file 2 of 47: ../pyAudioAnalysis/pyAudioAnalysis/data/speechEmotion/01.wav\n",
      "Analyzing file 3 of 47: ../pyAudioAnalysis/pyAudioAnalysis/data/speechEmotion/02.wav\n",
      "Analyzing file 4 of 47: ../pyAudioAnalysis/pyAudioAnalysis/data/speechEmotion/03.wav\n",
      "Analyzing file 5 of 47: ../pyAudioAnalysis/pyAudioAnalysis/data/speechEmotion/04.wav\n",
      "Analyzing file 6 of 47: ../pyAudioAnalysis/pyAudioAnalysis/data/speechEmotion/05.wav\n",
      "Analyzing file 7 of 47: ../pyAudioAnalysis/pyAudioAnalysis/data/speechEmotion/06.wav\n",
      "Analyzing file 8 of 47: ../pyAudioAnalysis/pyAudioAnalysis/data/speechEmotion/07.wav\n",
      "Analyzing file 9 of 47: ../pyAudioAnalysis/pyAudioAnalysis/data/speechEmotion/08.wav\n",
      "Analyzing file 10 of 47: ../pyAudioAnalysis/pyAudioAnalysis/data/speechEmotion/09.wav\n",
      "Analyzing file 11 of 47: ../pyAudioAnalysis/pyAudioAnalysis/data/speechEmotion/10.wav\n",
      "Analyzing file 12 of 47: ../pyAudioAnalysis/pyAudioAnalysis/data/speechEmotion/11.wav\n",
      "Analyzing file 13 of 47: ../pyAudioAnalysis/pyAudioAnalysis/data/speechEmotion/12.wav\n",
      "Analyzing file 14 of 47: ../pyAudioAnalysis/pyAudioAnalysis/data/speechEmotion/13.wav\n",
      "Analyzing file 15 of 47: ../pyAudioAnalysis/pyAudioAnalysis/data/speechEmotion/14.wav\n",
      "Analyzing file 16 of 47: ../pyAudioAnalysis/pyAudioAnalysis/data/speechEmotion/15.wav\n",
      "Analyzing file 17 of 47: ../pyAudioAnalysis/pyAudioAnalysis/data/speechEmotion/16.wav\n",
      "Analyzing file 18 of 47: ../pyAudioAnalysis/pyAudioAnalysis/data/speechEmotion/17.wav\n",
      "Analyzing file 19 of 47: ../pyAudioAnalysis/pyAudioAnalysis/data/speechEmotion/18.wav\n",
      "Analyzing file 20 of 47: ../pyAudioAnalysis/pyAudioAnalysis/data/speechEmotion/19.wav\n",
      "Analyzing file 21 of 47: ../pyAudioAnalysis/pyAudioAnalysis/data/speechEmotion/20.wav\n",
      "Analyzing file 22 of 47: ../pyAudioAnalysis/pyAudioAnalysis/data/speechEmotion/21.wav\n",
      "Analyzing file 23 of 47: ../pyAudioAnalysis/pyAudioAnalysis/data/speechEmotion/22.wav\n",
      "Analyzing file 24 of 47: ../pyAudioAnalysis/pyAudioAnalysis/data/speechEmotion/23.wav\n",
      "Analyzing file 25 of 47: ../pyAudioAnalysis/pyAudioAnalysis/data/speechEmotion/24.wav\n",
      "Analyzing file 26 of 47: ../pyAudioAnalysis/pyAudioAnalysis/data/speechEmotion/25.wav\n",
      "Analyzing file 27 of 47: ../pyAudioAnalysis/pyAudioAnalysis/data/speechEmotion/26.wav\n",
      "Analyzing file 28 of 47: ../pyAudioAnalysis/pyAudioAnalysis/data/speechEmotion/27.wav\n",
      "Analyzing file 29 of 47: ../pyAudioAnalysis/pyAudioAnalysis/data/speechEmotion/28.wav\n",
      "Analyzing file 30 of 47: ../pyAudioAnalysis/pyAudioAnalysis/data/speechEmotion/29.wav\n",
      "Analyzing file 31 of 47: ../pyAudioAnalysis/pyAudioAnalysis/data/speechEmotion/30.wav\n",
      "Analyzing file 32 of 47: ../pyAudioAnalysis/pyAudioAnalysis/data/speechEmotion/31.wav\n",
      "Analyzing file 33 of 47: ../pyAudioAnalysis/pyAudioAnalysis/data/speechEmotion/32.wav\n",
      "Analyzing file 34 of 47: ../pyAudioAnalysis/pyAudioAnalysis/data/speechEmotion/33.wav\n",
      "Analyzing file 35 of 47: ../pyAudioAnalysis/pyAudioAnalysis/data/speechEmotion/34.wav\n",
      "Analyzing file 36 of 47: ../pyAudioAnalysis/pyAudioAnalysis/data/speechEmotion/35.wav\n",
      "Analyzing file 37 of 47: ../pyAudioAnalysis/pyAudioAnalysis/data/speechEmotion/36.wav\n",
      "Analyzing file 38 of 47: ../pyAudioAnalysis/pyAudioAnalysis/data/speechEmotion/37.wav\n",
      "Analyzing file 39 of 47: ../pyAudioAnalysis/pyAudioAnalysis/data/speechEmotion/38.wav\n",
      "Analyzing file 40 of 47: ../pyAudioAnalysis/pyAudioAnalysis/data/speechEmotion/39.wav\n",
      "Analyzing file 41 of 47: ../pyAudioAnalysis/pyAudioAnalysis/data/speechEmotion/40.wav\n",
      "Analyzing file 42 of 47: ../pyAudioAnalysis/pyAudioAnalysis/data/speechEmotion/41.wav\n",
      "Analyzing file 43 of 47: ../pyAudioAnalysis/pyAudioAnalysis/data/speechEmotion/42.wav\n",
      "Analyzing file 44 of 47: ../pyAudioAnalysis/pyAudioAnalysis/data/speechEmotion/43.wav\n",
      "Analyzing file 45 of 47: ../pyAudioAnalysis/pyAudioAnalysis/data/speechEmotion/44.wav\n",
      "Analyzing file 46 of 47: ../pyAudioAnalysis/pyAudioAnalysis/data/speechEmotion/45.wav\n",
      "Analyzing file 47 of 47: ../pyAudioAnalysis/pyAudioAnalysis/data/speechEmotion/46.wav\n",
      "Feature extraction complexity ratio: 8.6 x realtime\n",
      "Regression task arousal\n",
      "Param\t\tMSE\t\tT-MSE\t\tR-MSE\n",
      "0.0010\t\t0.12\t\t0.23\t\t0.36\n",
      "0.0050\t\t0.09\t\t0.15\t\t0.35\n",
      "0.0100\t\t0.08\t\t0.13\t\t0.30\t\t best\n",
      "0.0500\t\t0.13\t\t0.10\t\t0.34\n",
      "0.1000\t\t0.15\t\t0.09\t\t0.35\n",
      "0.2500\t\t0.18\t\t0.09\t\t0.34\n",
      "0.5000\t\t0.17\t\t0.09\t\t0.35\n",
      "1.0000\t\t0.17\t\t0.09\t\t0.33\n",
      "5.0000\t\t0.17\t\t0.09\t\t0.34\n",
      "10.0000\t\t0.17\t\t0.09\t\t0.35\n",
      "Selected params: 0.01000\n",
      "Regression task valence\n",
      "Param\t\tMSE\t\tT-MSE\t\tR-MSE\n",
      "0.0010\t\t0.32\t\t0.44\t\t0.35\n",
      "0.0050\t\t0.32\t\t0.32\t\t0.36\n",
      "0.0100\t\t0.33\t\t0.26\t\t0.36\n",
      "0.0500\t\t0.32\t\t0.13\t\t0.38\n",
      "0.1000\t\t0.31\t\t0.10\t\t0.34\n",
      "0.2500\t\t0.31\t\t0.09\t\t0.36\n",
      "0.5000\t\t0.31\t\t0.09\t\t0.39\t\t best\n",
      "1.0000\t\t0.33\t\t0.09\t\t0.38\n",
      "5.0000\t\t0.37\t\t0.09\t\t0.36\n",
      "10.0000\t\t0.32\t\t0.09\t\t0.35\n",
      "Selected params: 0.50000\n"
     ]
    },
    {
     "data": {
      "text/plain": [
       "([0.07856196266779814, 0.31074719201893225],\n",
       " [0.30071827687074826, 0.38510738503401354],\n",
       " [0.01, 0.5])"
      ]
     },
     "execution_count": 3,
     "metadata": {},
     "output_type": "execute_result"
    }
   ],
   "source": [
    "aT.featureAndTrainRegression(datafolder, 1, 1, aT.shortTermWindow, aT.shortTermStep, \"svm\", outputsuffix, False)"
   ]
  },
  {
   "cell_type": "code",
   "execution_count": 6,
   "metadata": {},
   "outputs": [],
   "source": [
    "testfile='../pyAudioAnalysis/pyAudioAnalysis/data/speechEmotion/43.wav'# need to change, use anger1.wav"
   ]
  },
  {
   "cell_type": "code",
   "execution_count": 7,
   "metadata": {},
   "outputs": [
    {
     "data": {
      "text/plain": [
       "([0.999758218277818, 0.8269497133749397], ['arousal', 'valence'])"
      ]
     },
     "execution_count": 7,
     "metadata": {},
     "output_type": "execute_result"
    }
   ],
   "source": [
    "aT.fileRegression(testfile, outputsuffix, \"svm\")"
   ]
  },
  {
   "cell_type": "code",
   "execution_count": null,
   "metadata": {},
   "outputs": [],
   "source": []
  }
 ],
 "metadata": {
  "kernelspec": {
   "display_name": "Python 3",
   "language": "python",
   "name": "python3"
  },
  "language_info": {
   "codemirror_mode": {
    "name": "ipython",
    "version": 3
   },
   "file_extension": ".py",
   "mimetype": "text/x-python",
   "name": "python",
   "nbconvert_exporter": "python",
   "pygments_lexer": "ipython3",
   "version": "3.5.2"
  }
 },
 "nbformat": 4,
 "nbformat_minor": 2
}
